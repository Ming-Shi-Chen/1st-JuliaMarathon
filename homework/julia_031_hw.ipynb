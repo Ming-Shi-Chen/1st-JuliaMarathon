{
 "cells": [
  {
   "cell_type": "markdown",
   "metadata": {},
   "source": [
    "# Julia 深度學習：可微分程式設計\n",
    "\n",
    "## 作業 031：對神經網路層微分\n",
    "\n",
    "請自行撰寫一個型別，型別代表神經網路的一層運算，並且對它微分。神經網路層的一般式如下：\n",
    "\n",
    "$$\n",
    "y = \\sigma (Wx + b)\n",
    "$$\n",
    "\n",
    "其中 `W` 為參數矩陣，`b` 為參數向量，`x` 為輸入向量，`y` 為輸出向量。要取得向量的微分值，需要將向量縮減為純量，如下：\n",
    "\n",
    "```\n",
    "gradient(x -> sum(y), 1)\n",
    "```"
   ]
  },
  {
   "cell_type": "code",
   "execution_count": 3,
   "metadata": {},
   "outputs": [],
   "source": [
    "using Zygote"
   ]
  },
  {
   "cell_type": "code",
   "execution_count": 4,
   "metadata": {},
   "outputs": [],
   "source": [
    "mutable struct Layer\n",
    "    W::Matrix\n",
    "    b::Vector\n",
    "end"
   ]
  },
  {
   "cell_type": "code",
   "execution_count": 5,
   "metadata": {},
   "outputs": [],
   "source": [
    "(l::Layer)(x) = identity(l.W*x + l.b)"
   ]
  },
  {
   "cell_type": "code",
   "execution_count": 6,
   "metadata": {},
   "outputs": [
    {
     "data": {
      "text/plain": [
       "Layer([0.03817798232843783 0.5645060917765836 0.41116537084738436 0.8169028598534664; 0.26889343946941846 0.10418981525292503 0.8517542008363204 0.6564302592383098; 0.739930217595324 0.872664548806368 0.6096233163643374 0.3267137019150066], [0.9481575225067045, 0.657857558982534, 0.29792968373572837])"
      ]
     },
     "execution_count": 6,
     "metadata": {},
     "output_type": "execute_result"
    }
   ],
   "source": [
    "l = Layer(rand(3, 4), rand(3))"
   ]
  },
  {
   "cell_type": "code",
   "execution_count": 7,
   "metadata": {},
   "outputs": [
    {
     "data": {
      "text/plain": [
       "3-element Array{Float64,1}:\n",
       " 1.769224807801726 \n",
       " 1.5692776681027805\n",
       " 1.3411546581522085"
      ]
     },
     "execution_count": 7,
     "metadata": {},
     "output_type": "execute_result"
    }
   ],
   "source": [
    "l(rand(4))"
   ]
  },
  {
   "cell_type": "code",
   "execution_count": 8,
   "metadata": {},
   "outputs": [
    {
     "data": {
      "text/plain": [
       "([1.0470016393931803, 1.5413604558358767, 1.8725428880480421, 1.8000468210067828],)"
      ]
     },
     "execution_count": 8,
     "metadata": {},
     "output_type": "execute_result"
    }
   ],
   "source": [
    "gradient(x -> sum(l(x)), rand(4))"
   ]
  },
  {
   "cell_type": "code",
   "execution_count": null,
   "metadata": {},
   "outputs": [],
   "source": []
  }
 ],
 "metadata": {
  "kernelspec": {
   "display_name": "Julia 1.3.1",
   "language": "julia",
   "name": "julia-1.3"
  },
  "language_info": {
   "file_extension": ".jl",
   "mimetype": "application/julia",
   "name": "julia",
   "version": "1.3.1"
  }
 },
 "nbformat": 4,
 "nbformat_minor": 4
}
